{
 "cells": [
  {
   "cell_type": "code",
   "execution_count": null,
   "metadata": {},
   "outputs": [],
   "source": [
    "seattle_df.describe()\n",
    "plt.hist(seattle_df['Poverty Count'])\n",
    "\n",
    "quart = seattle_df['Poverty Count'].quantile([0.25, .50, 0.75])\n",
    "lowerq = quart[0.25]\n",
    "upperq = quart[0.75]\n",
    "iqr = upperq- lowerq\n",
    "\n",
    "\n",
    "lower_bound = lowerq - 1.5*iqr\n",
    "upper_bound = upperq + 1.5*iqr\n",
    "\n",
    "plt.boxplot(seattle_df['Poverty Count'])\n",
    "\n",
    "outlier = seattle_df.loc[(seattle_df['Poverty Count']< lower_bound) | (seattle_df['Poverty Count'] > upper_bound)]\n",
    "outlier"
   ]
  }
 ],
 "metadata": {
  "kernelspec": {
   "display_name": "base",
   "language": "python",
   "name": "python3"
  },
  "language_info": {
   "name": "python",
   "version": "3.11.5"
  }
 },
 "nbformat": 4,
 "nbformat_minor": 2
}
