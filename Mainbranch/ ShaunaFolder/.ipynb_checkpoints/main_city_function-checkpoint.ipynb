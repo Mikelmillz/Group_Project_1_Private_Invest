{
 "cells": [
  {
   "cell_type": "code",
   "execution_count": 4,
   "id": "5cae6025",
   "metadata": {},
   "outputs": [],
   "source": [
    "\n",
    "import pandas as pd\n",
    "import json\n",
    "import requests\n",
    "import datetime\n",
    "\n",
    "from pprint import pprint\n",
    "from crime_api_key import api_key\n",
    "# from crime_api_key import geoapify_key\n"
   ]
  },
  {
   "cell_type": "code",
   "execution_count": 5,
   "id": "ecb9b7a4",
   "metadata": {},
   "outputs": [
    {
     "name": "stdout",
     "output_type": "stream",
     "text": [
      "{'message': 'Limit Exceeded'}\n"
     ]
    }
   ],
   "source": [
    "lat = 37.70808\n",
    "lon = -122.51489\n",
    "distance = 1\n",
    "datetime_ini = '2020-03-17T00:00:00.000Z'\n",
    "datetime_end = '2020-03-17T11:59:59.000Z'\n",
    "source = 1\n",
    "url = f'https://api.crimeometer.com/v1/incidents/stats?lat={lat}&lon={lon}&distance={distance}&datetime_ini={datetime_ini}&datetime_end={datetime_end}&source={source}'\n",
    "# url = f'https://api.crimeometer.com/v1/incidents/raw-data?lat={lat}&lon={lon}&distance={distance}&datetime_ini={datetime_ini}&datetime_end={datetime_end}&page={page}'\n",
    "headers = {'Content-Type': 'application/json', 'x-api-key': api_key}\n",
    "\n",
    "response = requests.get(url, headers=headers)\n",
    "print(response.json())"
   ]
  },
  {
   "cell_type": "code",
   "execution_count": null,
   "id": "566ca736",
   "metadata": {},
   "outputs": [],
   "source": []
  },
  {
   "cell_type": "code",
   "execution_count": null,
   "id": "d7491b2c",
   "metadata": {},
   "outputs": [],
   "source": []
  }
 ],
 "metadata": {
  "kernelspec": {
   "display_name": "Python 3 (ipykernel)",
   "language": "python",
   "name": "python3"
  },
  "language_info": {
   "codemirror_mode": {
    "name": "ipython",
    "version": 3
   },
   "file_extension": ".py",
   "mimetype": "text/x-python",
   "name": "python",
   "nbconvert_exporter": "python",
   "pygments_lexer": "ipython3",
   "version": "3.11.5"
  }
 },
 "nbformat": 4,
 "nbformat_minor": 5
}
