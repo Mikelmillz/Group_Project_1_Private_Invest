{
 "cells": [
  {
   "cell_type": "code",
   "execution_count": 33,
   "id": "5cae6025",
   "metadata": {},
   "outputs": [],
   "source": [
    "\n",
    "import pandas as pd\n",
    "import json\n",
    "\n",
    "\n",
    "from pprint import pprint\n",
    "from crime_api_key import api_key\n"
   ]
  },
  {
   "cell_type": "code",
   "execution_count": 51,
   "id": "ecb9b7a4",
   "metadata": {},
   "outputs": [
    {
     "name": "stdout",
     "output_type": "stream",
     "text": [
      "{'data': [{'Arson': 0,\n",
      "           'Burglary': 20,\n",
      "           'Embezzlement': 0,\n",
      "           'Forgery and Counterfeiting': 8,\n",
      "           'Fraud': 2,\n",
      "           'Larceny - Theft': 84,\n",
      "           'Motor Vehicle Theft': 5,\n",
      "           'Stolen Property: Buying, Receiving, Possessing': 1,\n",
      "           'Vandalism': 17,\n",
      "           'data_year': 2017},\n",
      "          {'Arson': 0,\n",
      "           'Burglary': 12,\n",
      "           'Embezzlement': 0,\n",
      "           'Forgery and Counterfeiting': 6,\n",
      "           'Fraud': 5,\n",
      "           'Larceny - Theft': 107,\n",
      "           'Motor Vehicle Theft': 6,\n",
      "           'Stolen Property: Buying, Receiving, Possessing': 1,\n",
      "           'Vandalism': 16,\n",
      "           'data_year': 2018}],\n",
      " 'keys': ['Motor Vehicle Theft',\n",
      "          'Arson',\n",
      "          'Burglary',\n",
      "          'Embezzlement',\n",
      "          'Forgery and Counterfeiting',\n",
      "          'Fraud',\n",
      "          'Larceny - Theft',\n",
      "          'Vandalism',\n",
      "          'Stolen Property: Buying, Receiving, Possessing'],\n",
      " 'title': 'Arrests for Crime Against Property'}\n"
     ]
    }
   ],
   "source": [
    "base_url = 'https://api.usa.gov/crime/fbi/cde'\n",
    "agencies = ['CA0380000','CA0380100', 'CA0380300', 'CA0389700', 'CA0411700']\n",
    "arrest = 'arrest'\n",
    "crime = 'violent_crime?'\n",
    "prop_crime = 'property_crime?'\n",
    "from_to_2017= 'from=2017&to=2018&'\n",
    "from_to_2020= 'from=2020&to=2021&'\n",
    "url = f\"{base_url}/{arrest}/agency/MN0691400/{prop_crime}{from_to_2017}API_KEY={api_key}\"\n",
    "response = requests.get(url)\n",
    "pprint(response.json())\n"
   ]
  },
  {
   "cell_type": "code",
   "execution_count": null,
   "id": "566ca736",
   "metadata": {},
   "outputs": [],
   "source": []
  },
  {
   "cell_type": "code",
   "execution_count": null,
   "id": "d7491b2c",
   "metadata": {},
   "outputs": [],
   "source": []
  }
 ],
 "metadata": {
  "kernelspec": {
   "display_name": "Python 3 (ipykernel)",
   "language": "python",
   "name": "python3"
  },
  "language_info": {
   "codemirror_mode": {
    "name": "ipython",
    "version": 3
   },
   "file_extension": ".py",
   "mimetype": "text/x-python",
   "name": "python",
   "nbconvert_exporter": "python",
   "pygments_lexer": "ipython3",
   "version": "3.11.5"
  }
 },
 "nbformat": 4,
 "nbformat_minor": 5
}
