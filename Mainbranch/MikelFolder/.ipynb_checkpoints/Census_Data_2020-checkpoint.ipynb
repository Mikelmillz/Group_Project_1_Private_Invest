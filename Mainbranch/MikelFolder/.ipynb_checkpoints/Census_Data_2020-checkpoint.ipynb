{
 "cells": [
  {
   "cell_type": "code",
   "execution_count": 2,
   "id": "c8086c53",
   "metadata": {},
   "outputs": [
    {
     "ename": "ModuleNotFoundError",
     "evalue": "No module named 'config'",
     "output_type": "error",
     "traceback": [
      "\u001b[1;31m---------------------------------------------------------------------------\u001b[0m",
      "\u001b[1;31mModuleNotFoundError\u001b[0m                       Traceback (most recent call last)",
      "Cell \u001b[1;32mIn[2], line 6\u001b[0m\n\u001b[0;32m      4\u001b[0m \u001b[38;5;28;01mimport\u001b[39;00m \u001b[38;5;21;01mdatetime\u001b[39;00m\n\u001b[0;32m      5\u001b[0m \u001b[38;5;28;01mfrom\u001b[39;00m \u001b[38;5;21;01mpprint\u001b[39;00m \u001b[38;5;28;01mimport\u001b[39;00m pprint\n\u001b[1;32m----> 6\u001b[0m \u001b[38;5;28;01mfrom\u001b[39;00m \u001b[38;5;21;01mconfig\u001b[39;00m \u001b[38;5;28;01mimport\u001b[39;00m census_api_key\n\u001b[0;32m      7\u001b[0m \u001b[38;5;28;01mfrom\u001b[39;00m \u001b[38;5;21;01mcensus\u001b[39;00m \u001b[38;5;28;01mimport\u001b[39;00m Census\n\u001b[0;32m      8\u001b[0m \u001b[38;5;28;01mimport\u001b[39;00m \u001b[38;5;21;01mscipy\u001b[39;00m\u001b[38;5;21;01m.\u001b[39;00m\u001b[38;5;21;01mstats\u001b[39;00m \u001b[38;5;28;01mas\u001b[39;00m \u001b[38;5;21;01mst\u001b[39;00m\n",
      "\u001b[1;31mModuleNotFoundError\u001b[0m: No module named 'config'"
     ]
    }
   ],
   "source": [
    "import pandas as pd\n",
    "import json\n",
    "import requests\n",
    "import datetime\n",
    "from pprint import pprint\n",
    "from config import census_api_key\n",
    "from census import Census\n",
    "import scipy.stats as st\n",
    "import matplotlib.pyplot as plt"
   ]
  },
  {
   "cell_type": "code",
   "execution_count": null,
   "id": "30960699",
   "metadata": {},
   "outputs": [],
   "source": [
    "c = Census(\n",
    "    census_api_key,\n",
    "    year = 2021\n",
    ")"
   ]
  },
  {
   "cell_type": "code",
   "execution_count": null,
   "id": "99695579",
   "metadata": {},
   "outputs": [],
   "source": [
    "census_data = c.acs5.get(\n",
    "    (\n",
    "        \"NAME\",\n",
    "        \"B19013_001E\",\n",
    "        \"B01003_001E\",\n",
    "        \"B01002_001E\",\n",
    "        \"B19301_001E\",\n",
    "        \"B17001_002E\",\n",
    "        \"B23025_005E\",\n",
    "        \"B23025_002E\"\n",
    "    ),\n",
    "    {'for': 'zip code tabulation area:*'}\n",
    ")\n",
    "\n",
    "# Convert to DataFrame\n",
    "census_df = pd.DataFrame(census_data)\n",
    "\n",
    "# Column renaming\n",
    "census_df = census_df.rename(\n",
    "    columns = {\n",
    "        \"B01003_001E\": \"Population\",\n",
    "        \"B01002_001E\": \"Median Age\",\n",
    "        \"B19013_001E\": \"Household Income\",\n",
    "        \"B19301_001E\": \"Per Capita Income\",\n",
    "        \"B17001_002E\": \"Poverty Count\",\n",
    "        \"B23025_005E\": 'Unemployed',\n",
    "        \"B23025_002E\": 'Employed',\n",
    "        \"NAME\": \"Name\",\n",
    "        \"zip code tabulation area\": \"Zipcode\"\n",
    "    }\n",
    ")\n",
    "\n",
    "# Add a Poverty Rate column (Poverty Count / Population)\n",
    "census_df[\"Poverty Rate\"] = 100 * census_df[\"Poverty Count\"].astype(int) / census_df[\"Population\"].astype(int)\n",
    "\n",
    "# Configure the final DataFrame\n",
    "census_df = census_df[\n",
    "    [\n",
    "        \"Zipcode\",\n",
    "        \"Population\",\n",
    "        \"Median Age\",\n",
    "        'Unemployed',\n",
    "        'Employed',\n",
    "        \"Household Income\",\n",
    "        \"Per Capita Income\",\n",
    "        \"Poverty Count\",\n",
    "        \"Poverty Rate\",\n",
    "        \n",
    "    ]\n",
    "]\n",
    "\n",
    "# Display DataFrame length and sample data\n",
    "print(f\"Number of rows in the DataFrame: {len(census_df)}\")\n",
    "census_df.head()"
   ]
  },
  {
   "cell_type": "code",
   "execution_count": null,
   "id": "11d0af56",
   "metadata": {},
   "outputs": [],
   "source": [
    "poverty_df = census_df.sort_values(by='Poverty Count', ascending=False)\n",
    "poverty_df.head()"
   ]
  },
  {
   "cell_type": "code",
   "execution_count": null,
   "id": "d2985217",
   "metadata": {},
   "outputs": [],
   "source": [
    "desired_zip_codes = ['44145', '75206', '55792', '98101', '44312', '79735']\n",
    "\n",
    "filtered_df = poverty_df[poverty_df['Zipcode'].isin(desired_zip_codes)]\n",
    "\n",
    "filtered_df"
   ]
  },
  {
   "cell_type": "code",
   "execution_count": null,
   "id": "6cf97020",
   "metadata": {},
   "outputs": [],
   "source": [
    "desired_zip_codes = ['98101', '98102', '98103', '98104', '98105', '98106', '98107', '98108', '98109', '98110', '98111', '98112', '98113', '98114', '98115', '98116', '98117', '98118', '98119', '98121', '98122', '98124', '98125', '98126', '98127', '98129', '98131', '98133','98136', '98138', '98139', '98141', '98144', '98145', '98146', '98148', '98155', '98160', '98161', '98165', '98166', '98168', '98170', '98175', '98177', '98178', '98181', '98185', '98188', '98190', '98191', '98194', '98198', '98199']\n",
    "\n",
    "seattle_df = poverty_df[poverty_df['Zipcode'].isin(desired_zip_codes)]\n",
    "\n",
    "seattle_df"
   ]
  },
  {
   "cell_type": "code",
   "execution_count": null,
   "id": "72d0d21c",
   "metadata": {},
   "outputs": [],
   "source": [
    "seattle_df = seattle_df.dropna()"
   ]
  },
  {
   "cell_type": "code",
   "execution_count": null,
   "id": "5e6af910",
   "metadata": {},
   "outputs": [],
   "source": [
    "seattle_df.describe()"
   ]
  },
  {
   "cell_type": "code",
   "execution_count": null,
   "id": "c7784b61",
   "metadata": {},
   "outputs": [],
   "source": [
    "desired_zip_codes = [\"75001\", \"75006\", \"75007\", \"75019\", \"75032\", \"75039\", \"75041\", \"75042\", \"75043\", \"75050\", \"75051\", \"75052\", \"75061\",\n",
    "          \"75062\", \"75063\", \"75080\", \"75081\", \"75087\", \"75088\", \"75089\", \"75093\", \"75098\", \"75104\", \"75115\", \"75116\", \"75126\",\n",
    "          \"75134\", \"75149\", \"75150\", \"75159\", \"75166\", \"75180\", \"75181\", \"75182\", \"75201\", \"75202\", \"75203\", \"75204\", \"75205\",\n",
    "          \"75206\", \"75207\", \"75208\", \"75209\", \"75210\", \"75211\", \"75212\", \"75214\", \"75215\", \"75216\", \"75217\", \"75218\", \"75219\",\n",
    "          \"75220\", \"75221\", \"75222\", \"75223\", \"75224\", \"75225\", \"75226\", \"75227\", \"75228\", \"75229\", \"75230\", \"75231\", \"75232\",\n",
    "          \"75233\", \"75234\", \"75235\", \"75236\", \"75237\", \"75238\", \"75240\", \"75241\", \"75242\", \"75243\", \"75244\", \"75246\", \"75247\",\n",
    "          \"75248\", \"75249\", \"75250\", \"75251\", \"75252\", \"75253\", \"75254\", \"75260\", \"75261\", \"75262\", \"75263\", \"75264\", \"75265\",\n",
    "          \"75266\", \"75267\", \"75270\", \"75275\", \"75277\", \"75283\", \"75284\", \"75285\", \"75287\", \"75301\", \"75303\", \"75312\", \"75313\",\n",
    "          \"75315\", \"75320\", \"75326\", \"75336\", \"75339\", \"75342\", \"75354\", \"75355\", \"75356\", \"75357\", \"75358\", \"75359\", \"75360\",\n",
    "          \"75367\", \"75368\", \"75370\", \"75371\", \"75372\", \"75373\", \"75374\", \"75376\", \"75378\", \"75379\", \"75380\", \"75381\", \"75382\",\n",
    "          \"75389\", \"75390\", \"75391\", \"75392\", \"75393\", \"75394\", \"75395\", \"75397\", \"75398\"]\n",
    "\n",
    "dallas_df = poverty_df[poverty_df['Zipcode'].isin(desired_zip_codes)]\n",
    "\n",
    "dallas_df"
   ]
  },
  {
   "cell_type": "code",
   "execution_count": null,
   "id": "1e280892",
   "metadata": {},
   "outputs": [],
   "source": [
    "dallas_df = dallas_df.dropna()"
   ]
  },
  {
   "cell_type": "code",
   "execution_count": null,
   "id": "f4cf41d9",
   "metadata": {},
   "outputs": [],
   "source": [
    "dallas_df.describe()"
   ]
  },
  {
   "cell_type": "code",
   "execution_count": null,
   "id": "21e87c28",
   "metadata": {},
   "outputs": [],
   "source": [
    "desired_zip_codes = [\"94101\", \"94102\", \"94103\", \"94104\", \"94105\", \"94107\", \"94108\", \"94109\", \"94110\", \"94111\", \"94112\", \"94114\",\n",
    "                 \"94115\", \"94116\", \"94117\", \"94118\", \"94119\", \"94120\", \"94121\", \"94122\", \"94123\", \"94124\", \"94125\", \"94126\",\n",
    "                 \"94127\", \"94129\", \"94130\", \"94131\", \"94132\", \"94133\", \"94134\", \"94140\", \"94141\", \"94142\", \"94146\", \"94147\",\n",
    "                 \"94157\", \"94159\", \"94164\", \"94165\", \"94166\", \"94167\", \"94168\", \"94169\", \"94170\", \"94172\", \"94188\"]\n",
    "\n",
    "sanfransisco_df = poverty_df[poverty_df['Zipcode'].isin(desired_zip_codes)]\n",
    "\n",
    "sanfransisco_df = sanfransisco_df.dropna()\n",
    "\n",
    "sanfransisco_df"
   ]
  },
  {
   "cell_type": "code",
   "execution_count": null,
   "id": "2b43e6ba",
   "metadata": {},
   "outputs": [],
   "source": [
    "sanfransisco_df.describe()"
   ]
  },
  {
   "cell_type": "code",
   "execution_count": null,
   "id": "709fbfcd",
   "metadata": {},
   "outputs": [],
   "source": [
    "desired_zip_codes = [\"44102\", \"44103\", \"44104\", \"44105\", \"44106\", \"44107\", \"44108\", \"44109\", \"44110\", \"44111\", \"44112\", \"44113\",\n",
    "             \"44114\", \"44115\", \"44117\", \"44118\", \"44119\", \"44120\", \"44121\", \"44124\", \"44125\", \"44126\", \"44127\", \"44128\", \"44129\",\n",
    "             \"44130\", \"44134\", \"44135\", \"44137\", \"44142\", \"44143\", \"44144\", \"44181\", \"44188\", \"44190\", \"44191\", \"44192\" ,\"44193\",\n",
    "             \"44194\", \"44195\", \"44197\", \"44198\", \"44199\"]\n",
    "\n",
    "cleveland_df = poverty_df[poverty_df['Zipcode'].isin(desired_zip_codes)]\n",
    "\n",
    "cleveland_df"
   ]
  },
  {
   "cell_type": "code",
   "execution_count": null,
   "id": "31304dff",
   "metadata": {},
   "outputs": [],
   "source": [
    "cleveland_df = cleveland_df.dropna()\n",
    "\n",
    "cleveland_df"
   ]
  },
  {
   "cell_type": "code",
   "execution_count": null,
   "id": "b5e27858",
   "metadata": {},
   "outputs": [],
   "source": [
    "cleveland_df.describe()"
   ]
  },
  {
   "cell_type": "code",
   "execution_count": null,
   "id": "fb9e9222",
   "metadata": {},
   "outputs": [],
   "source": [
    "desired_zip_codes = [\"59801\", \"59802\", \"59803\", \"59804\", \"59806\", \"59807\", \"59808\"]\n",
    "\n",
    "missoula_df = poverty_df[poverty_df['Zipcode'].isin(desired_zip_codes)]\n",
    "\n",
    "missoula_df"
   ]
  },
  {
   "cell_type": "code",
   "execution_count": null,
   "id": "789cf079",
   "metadata": {},
   "outputs": [],
   "source": [
    "missoula_df = missoula_df.dropna()"
   ]
  },
  {
   "cell_type": "code",
   "execution_count": null,
   "id": "8d891be5",
   "metadata": {},
   "outputs": [],
   "source": [
    "missoula_df.describe()"
   ]
  },
  {
   "cell_type": "code",
   "execution_count": null,
   "id": "5a381786",
   "metadata": {},
   "outputs": [],
   "source": [
    "desired_zip_codes = ['55792']\n",
    "\n",
    "virginia_minnesota_df = poverty_df[poverty_df['Zipcode'].isin(desired_zip_codes)]\n",
    "\n",
    "virginia_minnesota_df"
   ]
  },
  {
   "cell_type": "code",
   "execution_count": null,
   "id": "9f7a6815",
   "metadata": {},
   "outputs": [],
   "source": [
    "desired_zip_codes = [\"46107\", \"46183\", \"46201\", \"46202\", \"46203\", \"46204\", \"46205\", \"46206\", \"46207\", \"46208\", \"46214\", \"46214\", \"46216\",\n",
    "      \"46217\", \"46217\", \"46218\", \"46219\", \"46220\", \"46221\", \"46222\", \"46224\", \"46224\", \"46225\", \"46226\", \"46226\", \"46227\",\n",
    "      \"46227\", \"46228\", \"46229\", \"46229\", \"46230\", \"46231\", \"46231\", \"46234\", \"46234\", \"46235\", \"46235\", \"46236\", \"46236\",\n",
    "      \"46237\", \"46237\", \"46239\", \"46239\", \"46240\", \"46240\", \"46241\", \"46241\", \"46242\", \"46244\", \"46247\", \"46247\", \"46250\",\n",
    "      \"46250\", \"46251\", \"46253\", \"46253\" ,\"46254\", \"46254\", \"46256\", \"46256\", \"46259\", \"46259\", \"46260\", \"46260\", \"46268\",\n",
    "      \"46268\", \"46278\", \"46278\", \"46282\"]\n",
    "\n",
    "indianapolis_df = poverty_df[poverty_df['Zipcode'].isin(desired_zip_codes)]\n",
    "\n",
    "indianapolis_df"
   ]
  },
  {
   "cell_type": "code",
   "execution_count": null,
   "id": "f3683e8b",
   "metadata": {},
   "outputs": [],
   "source": [
    "indianapolis_df = indianapolis_df.dropna()"
   ]
  },
  {
   "cell_type": "code",
   "execution_count": null,
   "id": "990fac84",
   "metadata": {},
   "outputs": [],
   "source": [
    "indianapolis_df.describe()"
   ]
  },
  {
   "cell_type": "code",
   "execution_count": null,
   "id": "7c79a8b6",
   "metadata": {},
   "outputs": [],
   "source": [
    "indianapolis_clean_df = indianapolis_df[[\"Population\",\"Poverty Rate\",]].agg([\"mean\",\"std\"])\n",
    "indianapolis_PR_df = indianapolis_df[[\"Population\",\"Poverty Rate\",]].agg([\"mean\"])\n",
    "indianapolis_clean_df[\"City\"] =\"indianapolis\"\n",
    "\n",
    "indianapolis_PR_df = indianapolis_df[[\"Population\",\"Poverty Rate\"]].agg([\"mean\"])\n",
    "indianapolis_PR_df[\"City\"] =\"indianapolis\"\n",
    "\n",
    "indianapolis_sum_df = indianapolis_df[[\"Population\"]].agg([\"sum\"])\n",
    "indianapolis_sum_df[\"City\"] =\"indianapolis\"\n",
    "\n",
    "\n",
    "indianapolis_sum_df"
   ]
  },
  {
   "cell_type": "code",
   "execution_count": null,
   "id": "0cd5eccc",
   "metadata": {},
   "outputs": [],
   "source": [
    "missoula_clean_df = missoula_df[[\"Population\",\"Poverty Rate\"]].agg([\"mean\",\"std\"])\n",
    "missoula_clean_df[\"City\"] =\"missoula\"\n",
    "\n",
    "missoula_PR_df = missoula_df[[\"Population\",\"Poverty Rate\"]].agg([\"mean\"])\n",
    "missoula_PR_df[\"City\"] =\"missoula\"\n",
    "\n",
    "missoula_sum_df = missoula_df[[\"Population\"]].agg([\"sum\"])\n",
    "missoula_sum_df[\"City\"] =\"missoula\"\n",
    "\n",
    "missoula_clean_df"
   ]
  },
  {
   "cell_type": "code",
   "execution_count": null,
   "id": "3cb8f4fe",
   "metadata": {},
   "outputs": [],
   "source": [
    "cleveland_clean_df = cleveland_df[[\"Population\",\"Poverty Rate\"]].agg([\"mean\",\"std\"])\n",
    "cleveland_clean_df[\"City\"] =\"cleveland\"\n",
    "\n",
    "cleveland_PR_df = cleveland_df[[\"Population\",\"Poverty Rate\"]].agg([\"mean\"])\n",
    "cleveland_PR_df[\"City\"] =\"cleveland\"\n",
    "\n",
    "cleveland_sum_df = cleveland_df[[\"Population\"]].agg([\"sum\"])\n",
    "cleveland_sum_df[\"City\"] =\"cleveland\"\n",
    "\n",
    "cleveland_clean_df"
   ]
  },
  {
   "cell_type": "code",
   "execution_count": null,
   "id": "548d2cdd",
   "metadata": {},
   "outputs": [],
   "source": [
    "sanfransisco_clean_df = sanfransisco_df[[\"Population\",\"Poverty Rate\"]].agg([\"mean\",\"std\"])\n",
    "sanfransisco_clean_df[\"City\"] =\"san fransisco\"\n",
    "\n",
    "sanfransisco_PR_df = sanfransisco_df[[\"Population\",\"Poverty Rate\"]].agg([\"mean\"])\n",
    "sanfransisco_PR_df[\"City\"] =\"san fransisco\"\n",
    "\n",
    "sanfransisco_sum_df = sanfransisco_df[[\"Population\"]].agg([\"sum\"])\n",
    "sanfransisco_sum_df[\"City\"] =\"san fransisco\"\n",
    "\n",
    "sanfransisco_clean_df"
   ]
  },
  {
   "cell_type": "code",
   "execution_count": null,
   "id": "61d9d1bb",
   "metadata": {},
   "outputs": [],
   "source": [
    "dallas_clean_df = dallas_df[[\"Population\",\"Poverty Rate\"]].agg([\"mean\",\"std\"])\n",
    "dallas_clean_df[\"City\"] =\"dallas\"\n",
    "\n",
    "dallas_PR_df = dallas_df[[\"Population\",\"Poverty Rate\"]].agg([\"mean\"])\n",
    "dallas_PR_df[\"City\"] =\"dallas\"\n",
    "\n",
    "dallas_sum_df = dallas_df[[\"Population\"]].agg([\"sum\"])\n",
    "dallas_sum_df[\"City\"] =\"dallas\"\n",
    "\n",
    "dallas_clean_df"
   ]
  },
  {
   "cell_type": "code",
   "execution_count": null,
   "id": "82ec06b6",
   "metadata": {},
   "outputs": [],
   "source": [
    "seattle_clean_df = seattle_df[[\"Population\",\"Poverty Rate\"]].agg([\"mean\",\"std\"])\n",
    "seattle_clean_df[\"City\"] =\"seattle\"\n",
    "\n",
    "seattle_PR_df = seattle_df[[\"Population\",\"Poverty Rate\"]].agg([\"mean\"])\n",
    "seattle_PR_df[\"City\"] =\"seattle\"\n",
    "\n",
    "seattle_sum_df = seattle_df[[\"Population\"]].agg([\"sum\"])\n",
    "seattle_sum_df[\"City\"] =\"seattle\"\n",
    "\n",
    "\n",
    "seattle_clean_df"
   ]
  },
  {
   "cell_type": "code",
   "execution_count": null,
   "id": "bb705563",
   "metadata": {},
   "outputs": [],
   "source": [
    "virginia_minnesota_clean_df = virginia_minnesota_df[[\"Poverty Rate\",\"Population\"]].agg([\"mean\"])\n",
    "virginia_minnesota_clean_df[\"City\"] = \"virgina (minnesota)\"\n",
    "\n",
    "virginia_minnesota_PR_df = virginia_minnesota_df[[\"Poverty Rate\",\"Population\"]].agg([\"mean\"])\n",
    "virginia_minnesota_PR_df[\"City\"] = \"virgina (minnesota)\"\n",
    "\n",
    "virginia_minnesota_sum_df = virginia_minnesota_df[[\"Population\"]].agg([\"mean\"])\n",
    "virginia_minnesota_sum_df[\"City\"] = \"virgina (minnesota)\"\n",
    "\n",
    "\n",
    "first_column = virginia_minnesota_clean_df.pop(\"Population\") \n",
    "virginia_minnesota_clean_df.insert(0, \"Population\", first_column)\n",
    "\n",
    "virginia_minnesota_PR_df"
   ]
  },
  {
   "cell_type": "code",
   "execution_count": null,
   "id": "b0f5139f",
   "metadata": {},
   "outputs": [],
   "source": [
    "Complete_pov_df = [indianapolis_clean_df,missoula_clean_df,cleveland_clean_df,dallas_clean_df,\n",
    "                   seattle_clean_df,virginia_minnesota_clean_df]\n",
    "result = pd.concat(Complete_pov_df)\n",
    "\n",
    "f_column = result.pop(\"City\") \n",
    "result.insert(0, \"City\", f_column)\n",
    "result"
   ]
  },
  {
   "cell_type": "code",
   "execution_count": null,
   "id": "2692da6d",
   "metadata": {},
   "outputs": [],
   "source": [
    "Complete_PR_df = pd.concat([cleveland_PR_df,dallas_PR_df,indianapolis_PR_df,missoula_PR_df,sanfransisco_PR_df,\n",
    "                   seattle_PR_df,virginia_minnesota_PR_df])\n",
    "Complete_rounded_PR_df = Complete_PR_df.round(2)\n",
    "Complete_rounded_PR_df"
   ]
  },
  {
   "cell_type": "code",
   "execution_count": null,
   "id": "a3f75140",
   "metadata": {},
   "outputs": [],
   "source": [
    "city=list(Complete_rounded_PR_df[\"City\"].values[0:])\n",
    "povrate=list(Complete_rounded_PR_df[\"Poverty Rate\"].values[0:])\n",
    "\n",
    "bar_colors = [\"Pink\", \"yellow\", \"blue\", \"purple\",\"orange\",\"green\",\"red\"]\n",
    "plt.ylabel(\"Poverty Rate (%)\")\n",
    "plt.xlabel(\"Cities\")\n",
    "plt.title(\"Poverty Rates for Different Cities 2021\")\n",
    "bar1=plt.bar(city,povrate,color=bar_colors)\n",
    "plt.xticks(rotation = 25)\n",
    "plt.bar_label(bar1,labels=povrate,label_type=\"edge\")\n",
    "plt.show()"
   ]
  },
  {
   "cell_type": "code",
   "execution_count": null,
   "id": "dfeb21a3",
   "metadata": {},
   "outputs": [],
   "source": [
    "Complete_sum_df = pd.concat([cleveland_sum_df,dallas_sum_df,indianapolis_sum_df,missoula_sum_df,sanfransisco_sum_df,\n",
    "                   seattle_sum_df,virginia_minnesota_sum_df])\n",
    "\n",
    "Complete_rounded_sum_df = Complete_sum_df.round(2)"
   ]
  },
  {
   "cell_type": "code",
   "execution_count": null,
   "id": "5bca2bc1",
   "metadata": {},
   "outputs": [],
   "source": [
    "pop=list(Complete_sum_df[\"Population\"].values[0:])\n",
    "\n",
    "bar_colors = [\"Pink\", \"yellow\", \"blue\", \"purple\",\"orange\",\"green\",\"red\"]\n",
    "plt.ylabel(\"Population (in millions)\")\n",
    "plt.xlabel(\"Cities\")\n",
    "plt.title(\"Total Population 2021\")\n",
    "bar2=plt.bar(city,pop,color=bar_colors)\n",
    "plt.xticks(rotation = 25)\n",
    "plt.bar_label(bar2,labels=pop,label_type=\"edge\")\n",
    "plt.show()"
   ]
  },
  {
   "cell_type": "code",
   "execution_count": null,
   "id": "0a20e032",
   "metadata": {},
   "outputs": [],
   "source": [
    "pop_ave=list(Complete_rounded_PR_df[\"Population\"].values[0:])\n",
    "\n",
    "\n",
    "bar_colors = [\"Pink\", \"yellow\", \"blue\", \"purple\",\"orange\",\"green\",\"red\"]\n",
    "plt.ylabel(\"Population (average per zip)\")\n",
    "plt.xlabel(\"Cities\")\n",
    "plt.title(\"Population Average per Zipcode 2021\")\n",
    "bar3=plt.bar(city,pop_ave,color=bar_colors)\n",
    "plt.xticks(rotation = 25)\n",
    "plt.bar_label(bar3,labels=pop_ave,label_type=\"edge\")\n",
    "plt.show()"
   ]
  },
  {
   "cell_type": "code",
   "execution_count": null,
   "id": "9609bd34",
   "metadata": {},
   "outputs": [],
   "source": []
  }
 ],
 "metadata": {
  "kernelspec": {
   "display_name": "Python 3 (ipykernel)",
   "language": "python",
   "name": "python3"
  },
  "language_info": {
   "codemirror_mode": {
    "name": "ipython",
    "version": 3
   },
   "file_extension": ".py",
   "mimetype": "text/x-python",
   "name": "python",
   "nbconvert_exporter": "python",
   "pygments_lexer": "ipython3",
   "version": "3.11.5"
  }
 },
 "nbformat": 4,
 "nbformat_minor": 5
}
