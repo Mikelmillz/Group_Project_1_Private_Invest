{
 "cells": [
  {
   "cell_type": "code",
   "execution_count": 12,
   "id": "14becdae",
   "metadata": {},
   "outputs": [],
   "source": [
    "import pandas as pd\n",
    "import json\n",
    "import requests\n",
    "import datetime\n",
    "from pprint import pprint\n",
    "from config import crime_api_key"
   ]
  },
  {
   "cell_type": "code",
   "execution_count": 13,
   "id": "f9a06bcb",
   "metadata": {},
   "outputs": [
    {
     "name": "stdout",
     "output_type": "stream",
     "text": [
      "2020-01-01 00:00:00\n",
      "2020-12-31 11:59:59\n"
     ]
    }
   ],
   "source": [
    "# Define date strings\n",
    "date_ini_string = '2020-01-01T00:00:00.000Z'\n",
    "date_end_string = '2020-12-31T11:59:59.000Z'\n",
    "\n",
    "# Convert date strings to datetime objects\n",
    "datetime_ini = datetime.datetime.strptime(date_ini_string, '%Y-%m-%dT%H:%M:%S.%fZ')\n",
    "datetime_end = datetime.datetime.strptime(date_end_string, '%Y-%m-%dT%H:%M:%S.%fZ')\n",
    "\n",
    "# Display datetime objects\n",
    "print(datetime_ini)\n",
    "print(datetime_end)"
   ]
  },
  {
   "cell_type": "code",
   "execution_count": 15,
   "id": "54293e00",
   "metadata": {},
   "outputs": [
    {
     "name": "stdout",
     "output_type": "stream",
     "text": [
      "{'message': 'Limit Exceeded'}\n"
     ]
    }
   ],
   "source": [
    "# Define parameters for API request\n",
    "lat = 32.776664\n",
    "lon = -96.796988\n",
    "distance = 100\n",
    "datetime_ini = '2020-01-01T00:00:00.000Z'\n",
    "datetime_end = '2020-12-31T11:59:59.000Z'\n",
    "source = 10\n",
    "\n",
    "# Construct API URL\n",
    "url = f'https://api.crimeometer.com/v1/incidents/stats?lat={lat}&lon={lon}&distance={distance}&datetime_ini={datetime_ini}&datetime_end={datetime_end}&source={source}'\n",
    "\n",
    "# Set headers for the API request\n",
    "headers = {'Content-Type': 'application/json', 'x-api-key': api_key}\n",
    "\n",
    "# Make API request and print the response\n",
    "response = requests.get(url, headers=headers)\n",
    "print(response.json())"
   ]
  },
  {
   "cell_type": "code",
   "execution_count": null,
   "id": "162b900c",
   "metadata": {},
   "outputs": [],
   "source": []
  }
 ],
 "metadata": {
  "kernelspec": {
   "display_name": "Python 3 (ipykernel)",
   "language": "python",
   "name": "python3"
  },
  "language_info": {
   "codemirror_mode": {
    "name": "ipython",
    "version": 3
   },
   "file_extension": ".py",
   "mimetype": "text/x-python",
   "name": "python",
   "nbconvert_exporter": "python",
   "pygments_lexer": "ipython3",
   "version": "3.10.13"
  }
 },
 "nbformat": 4,
 "nbformat_minor": 5
}
