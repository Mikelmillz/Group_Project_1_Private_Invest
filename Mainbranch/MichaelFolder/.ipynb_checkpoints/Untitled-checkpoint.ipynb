{
 "cells": [
  {
   "cell_type": "code",
   "execution_count": 4,
   "id": "14becdae",
   "metadata": {},
   "outputs": [
    {
     "ename": "ModuleNotFoundError",
     "evalue": "No module named 'config'",
     "output_type": "error",
     "traceback": [
      "\u001b[1;31m---------------------------------------------------------------------------\u001b[0m",
      "\u001b[1;31mModuleNotFoundError\u001b[0m                       Traceback (most recent call last)",
      "\u001b[1;32mc:\\Data Analysis\\Group_Project_1_Private_Invest\\Mainbranch\\MichaelFolder\\.ipynb_checkpoints\\Untitled-checkpoint.ipynb Cell 1\u001b[0m line \u001b[0;36m6\n\u001b[0;32m      <a href='vscode-notebook-cell:/c%3A/Data%20Analysis/Group_Project_1_Private_Invest/Mainbranch/MichaelFolder/.ipynb_checkpoints/Untitled-checkpoint.ipynb#W0sZmlsZQ%3D%3D?line=3'>4</a>\u001b[0m \u001b[39mimport\u001b[39;00m \u001b[39mdatetime\u001b[39;00m\n\u001b[0;32m      <a href='vscode-notebook-cell:/c%3A/Data%20Analysis/Group_Project_1_Private_Invest/Mainbranch/MichaelFolder/.ipynb_checkpoints/Untitled-checkpoint.ipynb#W0sZmlsZQ%3D%3D?line=4'>5</a>\u001b[0m \u001b[39mfrom\u001b[39;00m \u001b[39mpprint\u001b[39;00m \u001b[39mimport\u001b[39;00m pprint\n\u001b[1;32m----> <a href='vscode-notebook-cell:/c%3A/Data%20Analysis/Group_Project_1_Private_Invest/Mainbranch/MichaelFolder/.ipynb_checkpoints/Untitled-checkpoint.ipynb#W0sZmlsZQ%3D%3D?line=5'>6</a>\u001b[0m \u001b[39mfrom\u001b[39;00m \u001b[39mconfig\u001b[39;00m \u001b[39mimport\u001b[39;00m api_key\n",
      "\u001b[1;31mModuleNotFoundError\u001b[0m: No module named 'config'"
     ]
    }
   ],
   "source": [
    "import pandas as pd\n",
    "import json\n",
    "import requests\n",
    "import datetime\n",
    "from pprint import pprint\n",
    "from config import api_key"
   ]
  },
  {
   "cell_type": "code",
   "execution_count": 2,
   "id": "f9a06bcb",
   "metadata": {},
   "outputs": [
    {
     "name": "stdout",
     "output_type": "stream",
     "text": [
      "2020-01-01 00:00:00\n",
      "2020-12-31 11:59:59\n"
     ]
    }
   ],
   "source": [
    "# Define date strings\n",
    "date_ini_string = '2020-01-01T00:00:00.000Z'\n",
    "date_end_string = '2020-12-31T11:59:59.000Z'\n",
    "\n",
    "# Convert date strings to datetime objects\n",
    "datetime_ini = datetime.datetime.strptime(date_ini_string, '%Y-%m-%dT%H:%M:%S.%fZ')\n",
    "datetime_end = datetime.datetime.strptime(date_end_string, '%Y-%m-%dT%H:%M:%S.%fZ')\n",
    "\n",
    "# Display datetime objects\n",
    "print(datetime_ini)\n",
    "print(datetime_end)"
   ]
  },
  {
   "cell_type": "code",
   "execution_count": 3,
   "id": "54293e00",
   "metadata": {},
   "outputs": [
    {
     "ename": "NameError",
     "evalue": "name 'api_key' is not defined",
     "output_type": "error",
     "traceback": [
      "\u001b[1;31m---------------------------------------------------------------------------\u001b[0m",
      "\u001b[1;31mNameError\u001b[0m                                 Traceback (most recent call last)",
      "\u001b[1;32mc:\\Data Analysis\\Group_Project_1_Private_Invest\\Mainbranch\\MichaelFolder\\.ipynb_checkpoints\\Untitled-checkpoint.ipynb Cell 3\u001b[0m line \u001b[0;36m1\n\u001b[0;32m     <a href='vscode-notebook-cell:/c%3A/Data%20Analysis/Group_Project_1_Private_Invest/Mainbranch/MichaelFolder/.ipynb_checkpoints/Untitled-checkpoint.ipynb#W2sZmlsZQ%3D%3D?line=9'>10</a>\u001b[0m url \u001b[39m=\u001b[39m \u001b[39mf\u001b[39m\u001b[39m'\u001b[39m\u001b[39mhttps://api.crimeometer.com/v1/incidents/stats?lat=\u001b[39m\u001b[39m{\u001b[39;00mlat\u001b[39m}\u001b[39;00m\u001b[39m&lon=\u001b[39m\u001b[39m{\u001b[39;00mlon\u001b[39m}\u001b[39;00m\u001b[39m&distance=\u001b[39m\u001b[39m{\u001b[39;00mdistance\u001b[39m}\u001b[39;00m\u001b[39m&datetime_ini=\u001b[39m\u001b[39m{\u001b[39;00mdatetime_ini\u001b[39m}\u001b[39;00m\u001b[39m&datetime_end=\u001b[39m\u001b[39m{\u001b[39;00mdatetime_end\u001b[39m}\u001b[39;00m\u001b[39m&source=\u001b[39m\u001b[39m{\u001b[39;00msource\u001b[39m}\u001b[39;00m\u001b[39m'\u001b[39m\n\u001b[0;32m     <a href='vscode-notebook-cell:/c%3A/Data%20Analysis/Group_Project_1_Private_Invest/Mainbranch/MichaelFolder/.ipynb_checkpoints/Untitled-checkpoint.ipynb#W2sZmlsZQ%3D%3D?line=11'>12</a>\u001b[0m \u001b[39m# Set headers for the API request\u001b[39;00m\n\u001b[1;32m---> <a href='vscode-notebook-cell:/c%3A/Data%20Analysis/Group_Project_1_Private_Invest/Mainbranch/MichaelFolder/.ipynb_checkpoints/Untitled-checkpoint.ipynb#W2sZmlsZQ%3D%3D?line=12'>13</a>\u001b[0m headers \u001b[39m=\u001b[39m {\u001b[39m'\u001b[39m\u001b[39mContent-Type\u001b[39m\u001b[39m'\u001b[39m: \u001b[39m'\u001b[39m\u001b[39mapplication/json\u001b[39m\u001b[39m'\u001b[39m, \u001b[39m'\u001b[39m\u001b[39mx-api-key\u001b[39m\u001b[39m'\u001b[39m: api_key}\n\u001b[0;32m     <a href='vscode-notebook-cell:/c%3A/Data%20Analysis/Group_Project_1_Private_Invest/Mainbranch/MichaelFolder/.ipynb_checkpoints/Untitled-checkpoint.ipynb#W2sZmlsZQ%3D%3D?line=14'>15</a>\u001b[0m \u001b[39m# Make API request and print the response\u001b[39;00m\n\u001b[0;32m     <a href='vscode-notebook-cell:/c%3A/Data%20Analysis/Group_Project_1_Private_Invest/Mainbranch/MichaelFolder/.ipynb_checkpoints/Untitled-checkpoint.ipynb#W2sZmlsZQ%3D%3D?line=15'>16</a>\u001b[0m response \u001b[39m=\u001b[39m requests\u001b[39m.\u001b[39mget(url, headers\u001b[39m=\u001b[39mheaders)\n",
      "\u001b[1;31mNameError\u001b[0m: name 'api_key' is not defined"
     ]
    }
   ],
   "source": [
    "# Define parameters for API request\n",
    "lat = 32.776664\n",
    "lon = -96.796988\n",
    "distance = 100\n",
    "datetime_ini = '2020-01-01T00:00:00.000Z'\n",
    "datetime_end = '2020-12-31T11:59:59.000Z'\n",
    "source = 10\n",
    "\n",
    "# Construct API URL\n",
    "url = f'https://api.crimeometer.com/v1/incidents/stats?lat={lat}&lon={lon}&distance={distance}&datetime_ini={datetime_ini}&datetime_end={datetime_end}&source={source}'\n",
    "\n",
    "# Set headers for the API request\n",
    "headers = {'Content-Type': 'application/json', 'x-api-key': api_key}\n",
    "\n",
    "# Make API request and print the response\n",
    "response = requests.get(url, headers=headers)\n",
    "print(response.json())"
   ]
  },
  {
   "cell_type": "code",
   "execution_count": null,
   "id": "162b900c",
   "metadata": {},
   "outputs": [],
   "source": []
  }
 ],
 "metadata": {
  "kernelspec": {
   "display_name": "Python 3 (ipykernel)",
   "language": "python",
   "name": "python3"
  },
  "language_info": {
   "codemirror_mode": {
    "name": "ipython",
    "version": 3
   },
   "file_extension": ".py",
   "mimetype": "text/x-python",
   "name": "python",
   "nbconvert_exporter": "python",
   "pygments_lexer": "ipython3",
   "version": "3.11.5"
  }
 },
 "nbformat": 4,
 "nbformat_minor": 5
}
