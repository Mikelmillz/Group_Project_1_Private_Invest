{
 "cells": [
  {
   "cell_type": "markdown",
   "id": "6265fb07",
   "metadata": {},
   "source": [
    "Analyzing Poverty Rate vs. Household Income in each county"
   ]
  },
  {
   "cell_type": "markdown",
   "id": "868151cb",
   "metadata": {},
   "source": [
    "This code investigates the relationship between poverty rate and household income in each ZIP code. This reveals insights into economic disparities."
   ]
  },
  {
   "cell_type": "code",
   "execution_count": null,
   "id": "88ce2e1a",
   "metadata": {},
   "outputs": [],
   "source": [
    "import pandas as pd\n",
    "import matplotlib.pyplot as plt\n",
    "import seaborn as sns\n",
    "\n",
    "\n",
    "sns.scatterplot(x='Household Income', y='Poverty Rate', data=indianapolis_df)\n",
    "plt.title('Poverty Rate vs. Household Income')\n",
    "plt.show()"
   ]
  },
  {
   "cell_type": "markdown",
   "id": "d688aa78",
   "metadata": {},
   "source": [
    "Unemployment Analysis\n",
    "\n",
    "This explores how unemployment rates vary across different ZIP codes and if there's a correlation with poverty rates."
   ]
  },
  {
   "cell_type": "code",
   "execution_count": null,
   "id": "b1747dbd",
   "metadata": {},
   "outputs": [],
   "source": [
    "data['Unemployment Rate'] = data['Unemployed'] / data['Population'] * 100\n",
    "\n",
    "sns.scatterplot(x='Unemployment Rate', y='Poverty Rate', data=indianapolis_df)\n",
    "plt.title('Poverty Rate vs. Unemployment Rate')\n",
    "plt.show()"
   ]
  },
  {
   "cell_type": "markdown",
   "id": "e3c3adcf",
   "metadata": {},
   "source": [
    "Cluster Analysis\n",
    "\n",
    "This code performs a cluster analysis to group ZIP codes with similar economic profiles."
   ]
  },
  {
   "cell_type": "code",
   "execution_count": null,
   "id": "2e761c5e",
   "metadata": {},
   "outputs": [],
   "source": [
    "from sklearn.cluster import KMeans\n",
    "\n",
    "# Selecting relevant columns for clustering\n",
    "X = indianapolis_df[['Population', 'Household Income', 'Poverty Rate', 'Unemployment Rate']]\n",
    "\n",
    "kmeans = KMeans(n_clusters=3) # Change number of clusters as needed\n",
    "data['Cluster'] = kmeans.fit_predict(X)\n",
    "\n",
    "sns.scatterplot(x='Household Income', y='Poverty Rate', hue='Cluster', data=indianapolis_df)\n",
    "plt.title('Cluster Analysis of ZIP Codes')\n",
    "plt.show()"
   ]
  }
 ],
 "metadata": {
  "kernelspec": {
   "display_name": "Python 3 (ipykernel)",
   "language": "python",
   "name": "python3"
  },
  "language_info": {
   "codemirror_mode": {
    "name": "ipython",
    "version": 3
   },
   "file_extension": ".py",
   "mimetype": "text/x-python",
   "name": "python",
   "nbconvert_exporter": "python",
   "pygments_lexer": "ipython3",
   "version": "3.10.9"
  }
 },
 "nbformat": 4,
 "nbformat_minor": 5
}
