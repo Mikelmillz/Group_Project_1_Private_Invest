{
 "cells": [
  {
   "cell_type": "code",
   "execution_count": 26,
   "id": "5cae6025",
   "metadata": {},
   "outputs": [],
   "source": [
    "\n",
    "import pandas as pd\n",
    "import json\n",
    "\n",
    "\n",
    "from pprint import pprint\n",
    "from crime_api_key import api_key\n"
   ]
  },
  {
   "cell_type": "code",
   "execution_count": 31,
   "id": "ecb9b7a4",
   "metadata": {},
   "outputs": [
    {
     "name": "stdout",
     "output_type": "stream",
     "text": [
      "{'data': [{'Aggravated Assault': 1,\n",
      "           'Human Trafficking - Commercial Sex Acts': 0,\n",
      "           'Human Trafficking - Involuntary Servitude': 0,\n",
      "           'Manslaughter by Negligence': 0,\n",
      "           'Murder and Nonnegligent Manslaughter': 0,\n",
      "           'Rape': 0,\n",
      "           'Robbery': 1,\n",
      "           'Sex Offenses (Except Rape, and Prostitution and Commercialized Vice)': 0,\n",
      "           'Simple Assault': 3,\n",
      "           'data_year': 2020}],\n",
      " 'keys': ['Aggravated Assault',\n",
      "          'Sex Offenses (Except Rape, and Prostitution and Commercialized '\n",
      "          'Vice)',\n",
      "          'Manslaughter by Negligence',\n",
      "          'Murder and Nonnegligent Manslaughter',\n",
      "          'Rape',\n",
      "          'Robbery',\n",
      "          'Simple Assault',\n",
      "          'Human Trafficking - Commercial Sex Acts',\n",
      "          'Human Trafficking - Involuntary Servitude'],\n",
      " 'title': 'Arrests for Crime Against Person Offenses'}\n"
     ]
    }
   ],
   "source": [
    "base_url = 'https://api.usa.gov/crime/fbi/cde'\n",
    "agencies = ['CA0380000','CA0380100', 'CA0380300', 'CA0389700', 'CA0411700']\n",
    "arrest = 'arrest'\n",
    "crime = 'violent_crime?'\n",
    "url = f\"{base_url}/{arrest}/agency/CA0380300/{crime}from=2020&to=2021&API_KEY={api_key}\"\n",
    "response = requests.get(url)\n",
    "pprint(response.json())\n"
   ]
  },
  {
   "cell_type": "code",
   "execution_count": null,
   "id": "566ca736",
   "metadata": {},
   "outputs": [],
   "source": []
  },
  {
   "cell_type": "code",
   "execution_count": null,
   "id": "d7491b2c",
   "metadata": {},
   "outputs": [],
   "source": []
  }
 ],
 "metadata": {
  "kernelspec": {
   "display_name": "Python 3 (ipykernel)",
   "language": "python",
   "name": "python3"
  },
  "language_info": {
   "codemirror_mode": {
    "name": "ipython",
    "version": 3
   },
   "file_extension": ".py",
   "mimetype": "text/x-python",
   "name": "python",
   "nbconvert_exporter": "python",
   "pygments_lexer": "ipython3",
   "version": "3.11.5"
  }
 },
 "nbformat": 4,
 "nbformat_minor": 5
}
